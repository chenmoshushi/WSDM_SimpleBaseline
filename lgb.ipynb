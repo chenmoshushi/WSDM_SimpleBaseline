{
 "cells": [
  {
   "cell_type": "markdown",
   "metadata": {},
   "source": [
    "### imports\n",
    "***"
   ]
  },
  {
   "cell_type": "code",
   "execution_count": 1,
   "metadata": {},
   "outputs": [
    {
     "name": "stderr",
     "output_type": "stream",
     "text": [
      "/usr/local/lib/python3.7/dist-packages/numba/errors.py:137: UserWarning: Insufficiently recent colorama version found. Numba requires colorama >= 0.3.9\n",
      "  warnings.warn(msg)\n",
      "/home/iis519/.local/lib/python3.7/site-packages/sklearn/externals/joblib/__init__.py:15: DeprecationWarning: sklearn.externals.joblib is deprecated in 0.21 and will be removed in 0.23. Please import this functionality directly from joblib, which can be installed with: pip install joblib. If this warning is raised when loading pickled models, you may need to re-serialize those models with scikit-learn 0.21+.\n",
      "  warnings.warn(msg, category=DeprecationWarning)\n"
     ]
    },
    {
     "name": "stdout",
     "output_type": "stream",
     "text": [
      "recall bm25...\n"
     ]
    },
    {
     "data": {
      "application/vnd.jupyter.widget-view+json": {
       "model_id": "8af045bd6eac46ac9c30f9e3357001ea",
       "version_major": 2,
       "version_minor": 0
      },
      "text/plain": [
       "HBox(children=(FloatProgress(value=0.0, max=34428.0), HTML(value='')))"
      ]
     },
     "metadata": {},
     "output_type": "display_data"
    },
    {
     "name": "stdout",
     "output_type": "stream",
     "text": [
      "\n",
      "0.0501626583013826\n",
      "recall idf...\n"
     ]
    },
    {
     "data": {
      "application/vnd.jupyter.widget-view+json": {
       "model_id": "cc7403002c2f41358a79425ddd6d5276",
       "version_major": 2,
       "version_minor": 0
      },
      "text/plain": [
       "HBox(children=(FloatProgress(value=0.0, max=34428.0), HTML(value='')))"
      ]
     },
     "metadata": {},
     "output_type": "display_data"
    },
    {
     "name": "stdout",
     "output_type": "stream",
     "text": [
      "\n",
      "0.0072905774369699085\n",
      "recall s2v...\n"
     ]
    },
    {
     "data": {
      "application/vnd.jupyter.widget-view+json": {
       "model_id": "5bce0cd10efb46b58787e04c03b86bd5",
       "version_major": 2,
       "version_minor": 0
      },
      "text/plain": [
       "HBox(children=(FloatProgress(value=0.0, max=34428.0), HTML(value='')))"
      ]
     },
     "metadata": {},
     "output_type": "display_data"
    },
    {
     "name": "stdout",
     "output_type": "stream",
     "text": [
      "\n",
      "0.023178807947019868\n",
      "recall blue...\n"
     ]
    },
    {
     "data": {
      "application/vnd.jupyter.widget-view+json": {
       "model_id": "fffb3124a9924312aab6eb747e96a2ba",
       "version_major": 2,
       "version_minor": 0
      },
      "text/plain": [
       "HBox(children=(FloatProgress(value=0.0, max=34428.0), HTML(value='')))"
      ]
     },
     "metadata": {},
     "output_type": "display_data"
    },
    {
     "name": "stdout",
     "output_type": "stream",
     "text": [
      "\n",
      "0.0012489833856163587\n",
      "recall key...\n"
     ]
    },
    {
     "data": {
      "application/vnd.jupyter.widget-view+json": {
       "model_id": "6802ab80993a4f9ebcf14576ea9792fa",
       "version_major": 2,
       "version_minor": 0
      },
      "text/plain": [
       "HBox(children=(FloatProgress(value=0.0, max=34428.0), HTML(value='')))"
      ]
     },
     "metadata": {},
     "output_type": "display_data"
    },
    {
     "name": "stdout",
     "output_type": "stream",
     "text": [
      "\n",
      "0.7276054374346462\n",
      "(2621326, 6)\n",
      "(2204890, 6)\n",
      "(2204890, 13)\n",
      "(2204890, 13)\n",
      "(2204890, 13)\n"
     ]
    },
    {
     "name": "stderr",
     "output_type": "stream",
     "text": [
      "\n"
     ]
    },
    {
     "name": "stdout",
     "output_type": "stream",
     "text": [
      "(2204890, 8)\n",
      "cpu: 48\n",
      "used cpu: 16\n"
     ]
    },
    {
     "name": "stderr",
     "output_type": "stream",
     "text": [
      "Process ForkPoolWorker-4:\n",
      "Process ForkPoolWorker-12:\n",
      "Process ForkPoolWorker-7:\n",
      "Process ForkPoolWorker-11:\n",
      "Process ForkPoolWorker-2:\n",
      "Process ForkPoolWorker-3:\n",
      "Process ForkPoolWorker-1:\n",
      "Process ForkPoolWorker-9:\n",
      "Process ForkPoolWorker-5:\n",
      "Process ForkPoolWorker-6:\n",
      "Process ForkPoolWorker-14:\n",
      "Process ForkPoolWorker-13:\n",
      "Process ForkPoolWorker-8:\n",
      "Process ForkPoolWorker-15:\n",
      "Process ForkPoolWorker-16:\n",
      "Process ForkPoolWorker-10:\n",
      "Traceback (most recent call last):\n",
      "Traceback (most recent call last):\n",
      "Traceback (most recent call last):\n",
      "Traceback (most recent call last):\n",
      "Traceback (most recent call last):\n",
      "Traceback (most recent call last):\n",
      "Traceback (most recent call last):\n",
      "Traceback (most recent call last):\n",
      "Traceback (most recent call last):\n",
      "Traceback (most recent call last):\n",
      "Traceback (most recent call last):\n",
      "Traceback (most recent call last):\n",
      "Traceback (most recent call last):\n",
      "Traceback (most recent call last):\n",
      "Traceback (most recent call last):\n",
      "Traceback (most recent call last):\n",
      "  File \"/usr/lib/python3.7/multiprocessing/process.py\", line 297, in _bootstrap\n",
      "    self.run()\n",
      "  File \"/usr/lib/python3.7/multiprocessing/process.py\", line 297, in _bootstrap\n",
      "    self.run()\n",
      "  File \"/usr/lib/python3.7/multiprocessing/process.py\", line 297, in _bootstrap\n",
      "    self.run()\n",
      "  File \"/usr/lib/python3.7/multiprocessing/process.py\", line 297, in _bootstrap\n",
      "    self.run()\n",
      "  File \"/usr/lib/python3.7/multiprocessing/process.py\", line 297, in _bootstrap\n",
      "    self.run()\n",
      "  File \"/usr/lib/python3.7/multiprocessing/process.py\", line 297, in _bootstrap\n",
      "    self.run()\n",
      "  File \"/usr/lib/python3.7/multiprocessing/process.py\", line 297, in _bootstrap\n",
      "    self.run()\n",
      "  File \"/usr/lib/python3.7/multiprocessing/process.py\", line 297, in _bootstrap\n",
      "    self.run()\n",
      "  File \"/usr/lib/python3.7/multiprocessing/process.py\", line 297, in _bootstrap\n",
      "    self.run()\n",
      "  File \"/usr/lib/python3.7/multiprocessing/process.py\", line 297, in _bootstrap\n",
      "    self.run()\n",
      "  File \"/usr/lib/python3.7/multiprocessing/process.py\", line 297, in _bootstrap\n",
      "    self.run()\n",
      "  File \"/usr/lib/python3.7/multiprocessing/process.py\", line 297, in _bootstrap\n",
      "    self.run()\n",
      "  File \"/usr/lib/python3.7/multiprocessing/process.py\", line 297, in _bootstrap\n",
      "    self.run()\n",
      "  File \"/usr/lib/python3.7/multiprocessing/process.py\", line 297, in _bootstrap\n",
      "    self.run()\n",
      "  File \"/usr/lib/python3.7/multiprocessing/process.py\", line 297, in _bootstrap\n",
      "    self.run()\n",
      "  File \"/usr/lib/python3.7/multiprocessing/process.py\", line 99, in run\n",
      "    self._target(*self._args, **self._kwargs)\n",
      "  File \"/usr/lib/python3.7/multiprocessing/process.py\", line 297, in _bootstrap\n",
      "    self.run()\n",
      "  File \"/usr/lib/python3.7/multiprocessing/process.py\", line 99, in run\n",
      "    self._target(*self._args, **self._kwargs)\n",
      "  File \"/usr/lib/python3.7/multiprocessing/process.py\", line 99, in run\n",
      "    self._target(*self._args, **self._kwargs)\n",
      "  File \"/usr/lib/python3.7/multiprocessing/process.py\", line 99, in run\n",
      "    self._target(*self._args, **self._kwargs)\n",
      "  File \"/usr/lib/python3.7/multiprocessing/process.py\", line 99, in run\n",
      "    self._target(*self._args, **self._kwargs)\n",
      "  File \"/usr/lib/python3.7/multiprocessing/process.py\", line 99, in run\n",
      "    self._target(*self._args, **self._kwargs)\n",
      "  File \"/usr/lib/python3.7/multiprocessing/process.py\", line 99, in run\n",
      "    self._target(*self._args, **self._kwargs)\n",
      "  File \"/usr/lib/python3.7/multiprocessing/process.py\", line 99, in run\n",
      "    self._target(*self._args, **self._kwargs)\n",
      "  File \"/usr/lib/python3.7/multiprocessing/process.py\", line 99, in run\n",
      "    self._target(*self._args, **self._kwargs)\n",
      "  File \"/usr/lib/python3.7/multiprocessing/process.py\", line 99, in run\n",
      "    self._target(*self._args, **self._kwargs)\n",
      "  File \"/usr/lib/python3.7/multiprocessing/process.py\", line 99, in run\n",
      "    self._target(*self._args, **self._kwargs)\n",
      "  File \"/usr/lib/python3.7/multiprocessing/process.py\", line 99, in run\n",
      "    self._target(*self._args, **self._kwargs)\n",
      "  File \"/usr/lib/python3.7/multiprocessing/process.py\", line 99, in run\n",
      "    self._target(*self._args, **self._kwargs)\n",
      "  File \"/usr/lib/python3.7/multiprocessing/pool.py\", line 121, in worker\n",
      "    result = (True, func(*args, **kwds))\n",
      "  File \"/usr/lib/python3.7/multiprocessing/process.py\", line 99, in run\n",
      "    self._target(*self._args, **self._kwargs)\n",
      "  File \"/usr/lib/python3.7/multiprocessing/process.py\", line 99, in run\n",
      "    self._target(*self._args, **self._kwargs)\n",
      "  File \"/usr/lib/python3.7/multiprocessing/process.py\", line 99, in run\n",
      "    self._target(*self._args, **self._kwargs)\n",
      "  File \"/usr/lib/python3.7/multiprocessing/pool.py\", line 121, in worker\n",
      "    result = (True, func(*args, **kwds))\n",
      "  File \"/usr/lib/python3.7/multiprocessing/pool.py\", line 121, in worker\n",
      "    result = (True, func(*args, **kwds))\n",
      "  File \"/usr/lib/python3.7/multiprocessing/pool.py\", line 121, in worker\n",
      "    result = (True, func(*args, **kwds))\n",
      "  File \"/usr/lib/python3.7/multiprocessing/pool.py\", line 121, in worker\n",
      "    result = (True, func(*args, **kwds))\n",
      "  File \"/usr/lib/python3.7/multiprocessing/pool.py\", line 121, in worker\n",
      "    result = (True, func(*args, **kwds))\n",
      "  File \"/usr/lib/python3.7/multiprocessing/pool.py\", line 121, in worker\n",
      "    result = (True, func(*args, **kwds))\n",
      "  File \"/usr/lib/python3.7/multiprocessing/pool.py\", line 121, in worker\n",
      "    result = (True, func(*args, **kwds))\n",
      "  File \"/usr/lib/python3.7/multiprocessing/pool.py\", line 121, in worker\n",
      "    result = (True, func(*args, **kwds))\n",
      "  File \"/usr/lib/python3.7/multiprocessing/pool.py\", line 121, in worker\n",
      "    result = (True, func(*args, **kwds))\n",
      "  File \"/usr/lib/python3.7/multiprocessing/pool.py\", line 121, in worker\n",
      "    result = (True, func(*args, **kwds))\n",
      "  File \"/usr/lib/python3.7/multiprocessing/pool.py\", line 121, in worker\n",
      "    result = (True, func(*args, **kwds))\n",
      "  File \"<ipython-input-1-3f2566e9308a>\", line 317, in get_features\n",
      "    data[prefix + 'key_in_psu_key_number_rate_ka_11'] = list(map(lambda x,y: get_num_psu_key(x,y,11),data['key_text_pre'],data['abstract_pre']))\n",
      "  File \"/usr/lib/python3.7/multiprocessing/pool.py\", line 121, in worker\n",
      "    result = (True, func(*args, **kwds))\n",
      "  File \"/usr/lib/python3.7/multiprocessing/pool.py\", line 121, in worker\n",
      "    result = (True, func(*args, **kwds))\n",
      "  File \"<ipython-input-1-3f2566e9308a>\", line 319, in get_features\n",
      "    data[prefix + 'key_in_psu_key_number_rate_da_11'] = list(map(lambda x,y: get_num_psu_key(x,y,11),data['description_text_pre'],data['abstract_pre']))\n",
      "  File \"/usr/lib/python3.7/multiprocessing/pool.py\", line 121, in worker\n",
      "    result = (True, func(*args, **kwds))\n",
      "  File \"/usr/lib/python3.7/multiprocessing/pool.py\", line 121, in worker\n",
      "    result = (True, func(*args, **kwds))\n",
      "  File \"<ipython-input-1-3f2566e9308a>\", line 328, in get_features\n",
      "    data[prefix + 'key_in_psu_key_number_rate_dt_12'] = list(map(lambda x,y: get_num_psu_key(x,y,12),data['description_text_pre'],data['title_pro']))\n",
      "  File \"<ipython-input-1-3f2566e9308a>\", line 344, in get_features\n",
      "    data[prefix + 'key_in_psu_key_number_da_13'] = list(map(lambda x,y: get_num_psu_key(x,y,13,False),data['description_text_pre'],data['abstract_pre']))\n",
      "  File \"<ipython-input-1-3f2566e9308a>\", line 314, in get_features\n",
      "    data[prefix + 'key_in_psu_key_number_da_10'] = list(map(lambda x,y: get_num_psu_key(x,y,10,False),data['description_text_pre'],data['abstract_pre']))\n",
      "  File \"<ipython-input-1-3f2566e9308a>\", line 326, in get_features\n",
      "    data[prefix + 'key_in_psu_key_number_rate_kt_12'] = list(map(lambda x,y: get_num_psu_key(x,y,12),data['key_text_pre'],data['title_pro']))\n",
      "  File \"<ipython-input-1-3f2566e9308a>\", line 317, in get_features\n",
      "    data[prefix + 'key_in_psu_key_number_rate_ka_11'] = list(map(lambda x,y: get_num_psu_key(x,y,11),data['key_text_pre'],data['abstract_pre']))\n",
      "  File \"<ipython-input-1-3f2566e9308a>\", line 327, in get_features\n",
      "    data[prefix + 'key_in_psu_key_number_rate_ka_12'] = list(map(lambda x,y: get_num_psu_key(x,y,12),data['key_text_pre'],data['abstract_pre']))\n",
      "  File \"<ipython-input-1-3f2566e9308a>\", line 326, in get_features\n",
      "    data[prefix + 'key_in_psu_key_number_rate_kt_12'] = list(map(lambda x,y: get_num_psu_key(x,y,12),data['key_text_pre'],data['title_pro']))\n",
      "  File \"<ipython-input-1-3f2566e9308a>\", line 333, in get_features\n",
      "    data[prefix + 'key_in_psu_key_number_dt_12'] = list(map(lambda x,y: get_num_psu_key(x,y,12,False),data['description_text_pre'],data['title_pro']))\n"
     ]
    },
    {
     "name": "stderr",
     "output_type": "stream",
     "text": [
      "  File \"<ipython-input-1-3f2566e9308a>\", line 324, in get_features\n",
      "    data[prefix + 'key_in_psu_key_number_da_11'] = list(map(lambda x,y: get_num_psu_key(x,y,11,False),data['description_text_pre'],data['abstract_pre']))\n",
      "  File \"<ipython-input-1-3f2566e9308a>\", line 327, in get_features\n",
      "    data[prefix + 'key_in_psu_key_number_rate_ka_12'] = list(map(lambda x,y: get_num_psu_key(x,y,12),data['key_text_pre'],data['abstract_pre']))\n",
      "  File \"<ipython-input-1-3f2566e9308a>\", line 317, in <lambda>\n",
      "    data[prefix + 'key_in_psu_key_number_rate_ka_11'] = list(map(lambda x,y: get_num_psu_key(x,y,11),data['key_text_pre'],data['abstract_pre']))\n",
      "  File \"<ipython-input-1-3f2566e9308a>\", line 323, in get_features\n",
      "    data[prefix + 'key_in_psu_key_number_dt_11'] = list(map(lambda x,y: get_num_psu_key(x,y,11,False),data['description_text_pre'],data['title_pro']))\n",
      "  File \"<ipython-input-1-3f2566e9308a>\", line 334, in get_features\n",
      "    data[prefix + 'key_in_psu_key_number_da_12'] = list(map(lambda x,y: get_num_psu_key(x,y,12,False),data['description_text_pre'],data['abstract_pre']))\n",
      "  File \"<ipython-input-1-3f2566e9308a>\", line 319, in <lambda>\n",
      "    data[prefix + 'key_in_psu_key_number_rate_da_11'] = list(map(lambda x,y: get_num_psu_key(x,y,11),data['description_text_pre'],data['abstract_pre']))\n",
      "  File \"<ipython-input-1-3f2566e9308a>\", line 333, in get_features\n",
      "    data[prefix + 'key_in_psu_key_number_dt_12'] = list(map(lambda x,y: get_num_psu_key(x,y,12,False),data['description_text_pre'],data['title_pro']))\n",
      "  File \"<ipython-input-1-3f2566e9308a>\", line 328, in <lambda>\n",
      "    data[prefix + 'key_in_psu_key_number_rate_dt_12'] = list(map(lambda x,y: get_num_psu_key(x,y,12),data['description_text_pre'],data['title_pro']))\n",
      "  File \"<ipython-input-1-3f2566e9308a>\", line 337, in get_features\n",
      "    data[prefix + 'key_in_psu_key_number_rate_ka_13'] = list(map(lambda x,y: get_num_psu_key(x,y,13),data['key_text_pre'],data['abstract_pre']))\n",
      "  File \"<ipython-input-1-3f2566e9308a>\", line 344, in <lambda>\n",
      "    data[prefix + 'key_in_psu_key_number_da_13'] = list(map(lambda x,y: get_num_psu_key(x,y,13,False),data['description_text_pre'],data['abstract_pre']))\n",
      "  File \"<ipython-input-1-3f2566e9308a>\", line 314, in <lambda>\n",
      "    data[prefix + 'key_in_psu_key_number_da_10'] = list(map(lambda x,y: get_num_psu_key(x,y,10,False),data['description_text_pre'],data['abstract_pre']))\n",
      "  File \"<ipython-input-1-3f2566e9308a>\", line 326, in <lambda>\n",
      "    data[prefix + 'key_in_psu_key_number_rate_kt_12'] = list(map(lambda x,y: get_num_psu_key(x,y,12),data['key_text_pre'],data['title_pro']))\n",
      "  File \"<ipython-input-1-3f2566e9308a>\", line 317, in <lambda>\n",
      "    data[prefix + 'key_in_psu_key_number_rate_ka_11'] = list(map(lambda x,y: get_num_psu_key(x,y,11),data['key_text_pre'],data['abstract_pre']))\n",
      "  File \"<ipython-input-1-3f2566e9308a>\", line 326, in <lambda>\n",
      "    data[prefix + 'key_in_psu_key_number_rate_kt_12'] = list(map(lambda x,y: get_num_psu_key(x,y,12),data['key_text_pre'],data['title_pro']))\n",
      "  File \"<ipython-input-1-3f2566e9308a>\", line 333, in <lambda>\n",
      "    data[prefix + 'key_in_psu_key_number_dt_12'] = list(map(lambda x,y: get_num_psu_key(x,y,12,False),data['description_text_pre'],data['title_pro']))\n",
      "  File \"<ipython-input-1-3f2566e9308a>\", line 327, in <lambda>\n",
      "    data[prefix + 'key_in_psu_key_number_rate_ka_12'] = list(map(lambda x,y: get_num_psu_key(x,y,12),data['key_text_pre'],data['abstract_pre']))\n",
      "  File \"<ipython-input-1-3f2566e9308a>\", line 324, in <lambda>\n",
      "    data[prefix + 'key_in_psu_key_number_da_11'] = list(map(lambda x,y: get_num_psu_key(x,y,11,False),data['description_text_pre'],data['abstract_pre']))\n",
      "  File \"<ipython-input-1-3f2566e9308a>\", line 327, in <lambda>\n",
      "    data[prefix + 'key_in_psu_key_number_rate_ka_12'] = list(map(lambda x,y: get_num_psu_key(x,y,12),data['key_text_pre'],data['abstract_pre']))\n",
      "  File \"<ipython-input-1-3f2566e9308a>\", line 276, in get_num_psu_key\n",
      "    y = top_k(y)\n",
      "  File \"<ipython-input-1-3f2566e9308a>\", line 334, in <lambda>\n",
      "    data[prefix + 'key_in_psu_key_number_da_12'] = list(map(lambda x,y: get_num_psu_key(x,y,12,False),data['description_text_pre'],data['abstract_pre']))\n",
      "  File \"<ipython-input-1-3f2566e9308a>\", line 323, in <lambda>\n",
      "    data[prefix + 'key_in_psu_key_number_dt_11'] = list(map(lambda x,y: get_num_psu_key(x,y,11,False),data['description_text_pre'],data['title_pro']))\n",
      "  File \"<ipython-input-1-3f2566e9308a>\", line 333, in <lambda>\n",
      "    data[prefix + 'key_in_psu_key_number_dt_12'] = list(map(lambda x,y: get_num_psu_key(x,y,12,False),data['description_text_pre'],data['title_pro']))\n",
      "  File \"<ipython-input-1-3f2566e9308a>\", line 275, in get_num_psu_key\n",
      "    x = filter_len(x)\n",
      "  File \"<ipython-input-1-3f2566e9308a>\", line 275, in get_num_psu_key\n",
      "    x = filter_len(x)\n",
      "  File \"<ipython-input-1-3f2566e9308a>\", line 337, in <lambda>\n",
      "    data[prefix + 'key_in_psu_key_number_rate_ka_13'] = list(map(lambda x,y: get_num_psu_key(x,y,13),data['key_text_pre'],data['abstract_pre']))\n",
      "  File \"<ipython-input-1-3f2566e9308a>\", line 276, in get_num_psu_key\n",
      "    y = top_k(y)\n",
      "  File \"<ipython-input-1-3f2566e9308a>\", line 275, in get_num_psu_key\n",
      "    x = filter_len(x)\n",
      "  File \"<ipython-input-1-3f2566e9308a>\", line 275, in get_num_psu_key\n",
      "    x = filter_len(x)\n",
      "  File \"<ipython-input-1-3f2566e9308a>\", line 276, in get_num_psu_key\n",
      "    y = top_k(y)\n",
      "  File \"<ipython-input-1-3f2566e9308a>\", line 275, in get_num_psu_key\n",
      "    x = filter_len(x)\n",
      "  File \"<ipython-input-1-3f2566e9308a>\", line 275, in get_num_psu_key\n",
      "    x = filter_len(x)\n",
      "  File \"<ipython-input-1-3f2566e9308a>\", line 276, in get_num_psu_key\n",
      "    y = top_k(y)\n",
      "  File \"<ipython-input-1-3f2566e9308a>\", line 276, in get_num_psu_key\n",
      "    y = top_k(y)\n",
      "  File \"<ipython-input-1-3f2566e9308a>\", line 276, in get_num_psu_key\n",
      "    y = top_k(y)\n",
      "  File \"<ipython-input-1-3f2566e9308a>\", line 268, in top_k\n",
      "    ret = sorted(string.split(), key=lambda x: len(x), reverse=True)[:k]\n",
      "  File \"<ipython-input-1-3f2566e9308a>\", line 275, in get_num_psu_key\n",
      "    x = filter_len(x)\n",
      "  File \"<ipython-input-1-3f2566e9308a>\", line 276, in get_num_psu_key\n",
      "    y = top_k(y)\n",
      "  File \"<ipython-input-1-3f2566e9308a>\", line 275, in get_num_psu_key\n",
      "    x = filter_len(x)\n",
      "  File \"<ipython-input-1-3f2566e9308a>\", line 263, in filter_len\n",
      "    ret = [word for word in string.split() if len(word) >= MIN_LEN and word in word2idf]\n",
      "  File \"<ipython-input-1-3f2566e9308a>\", line 263, in filter_len\n",
      "    ret = [word for word in string.split() if len(word) >= MIN_LEN and word in word2idf]\n",
      "  File \"<ipython-input-1-3f2566e9308a>\", line 276, in get_num_psu_key\n",
      "    y = top_k(y)\n",
      "  File \"<ipython-input-1-3f2566e9308a>\", line 263, in filter_len\n",
      "    ret = [word for word in string.split() if len(word) >= MIN_LEN and word in word2idf]\n",
      "  File \"<ipython-input-1-3f2566e9308a>\", line 268, in top_k\n",
      "    ret = sorted(string.split(), key=lambda x: len(x), reverse=True)[:k]\n",
      "  File \"<ipython-input-1-3f2566e9308a>\", line 263, in filter_len\n",
      "    ret = [word for word in string.split() if len(word) >= MIN_LEN and word in word2idf]\n",
      "  File \"<ipython-input-1-3f2566e9308a>\", line 268, in top_k\n",
      "    ret = sorted(string.split(), key=lambda x: len(x), reverse=True)[:k]\n",
      "  File \"<ipython-input-1-3f2566e9308a>\", line 263, in filter_len\n",
      "    ret = [word for word in string.split() if len(word) >= MIN_LEN and word in word2idf]\n",
      "  File \"<ipython-input-1-3f2566e9308a>\", line 263, in filter_len\n",
      "    ret = [word for word in string.split() if len(word) >= MIN_LEN and word in word2idf]\n",
      "  File \"<ipython-input-1-3f2566e9308a>\", line 268, in top_k\n",
      "    ret = sorted(string.split(), key=lambda x: len(x), reverse=True)[:k]\n",
      "  File \"<ipython-input-1-3f2566e9308a>\", line 268, in top_k\n",
      "    ret = sorted(string.split(), key=lambda x: len(x), reverse=True)[:k]\n",
      "KeyboardInterrupt\n",
      "  File \"<ipython-input-1-3f2566e9308a>\", line 268, in top_k\n",
      "    ret = sorted(string.split(), key=lambda x: len(x), reverse=True)[:k]\n",
      "  File \"<ipython-input-1-3f2566e9308a>\", line 269, in top_k\n",
      "    ret = [kw for kw in ret if len(kw) >= 8 and kw in word2idf]\n",
      "  File \"<ipython-input-1-3f2566e9308a>\", line 263, in filter_len\n",
      "    ret = [word for word in string.split() if len(word) >= MIN_LEN and word in word2idf]\n",
      "  File \"<ipython-input-1-3f2566e9308a>\", line 263, in <listcomp>\n",
      "    ret = [word for word in string.split() if len(word) >= MIN_LEN and word in word2idf]\n"
     ]
    },
    {
     "name": "stderr",
     "output_type": "stream",
     "text": [
      "  File \"<ipython-input-1-3f2566e9308a>\", line 263, in filter_len\n",
      "    ret = [word for word in string.split() if len(word) >= MIN_LEN and word in word2idf]\n",
      "  File \"<ipython-input-1-3f2566e9308a>\", line 268, in top_k\n",
      "    ret = sorted(string.split(), key=lambda x: len(x), reverse=True)[:k]\n",
      "  File \"<ipython-input-1-3f2566e9308a>\", line 263, in <listcomp>\n",
      "    ret = [word for word in string.split() if len(word) >= MIN_LEN and word in word2idf]\n",
      "KeyboardInterrupt\n",
      "KeyboardInterrupt\n",
      "  File \"<ipython-input-1-3f2566e9308a>\", line 263, in <listcomp>\n",
      "    ret = [word for word in string.split() if len(word) >= MIN_LEN and word in word2idf]\n",
      "  File \"<ipython-input-1-3f2566e9308a>\", line 268, in <lambda>\n",
      "    ret = sorted(string.split(), key=lambda x: len(x), reverse=True)[:k]\n",
      "  File \"<ipython-input-1-3f2566e9308a>\", line 263, in <listcomp>\n",
      "    ret = [word for word in string.split() if len(word) >= MIN_LEN and word in word2idf]\n",
      "  File \"<ipython-input-1-3f2566e9308a>\", line 263, in <listcomp>\n",
      "    ret = [word for word in string.split() if len(word) >= MIN_LEN and word in word2idf]\n",
      "KeyboardInterrupt\n",
      "KeyboardInterrupt\n",
      "  File \"<ipython-input-1-3f2566e9308a>\", line 268, in <lambda>\n",
      "    ret = sorted(string.split(), key=lambda x: len(x), reverse=True)[:k]\n",
      "  File \"<ipython-input-1-3f2566e9308a>\", line 263, in <listcomp>\n",
      "    ret = [word for word in string.split() if len(word) >= MIN_LEN and word in word2idf]\n",
      "KeyboardInterrupt\n",
      "KeyboardInterrupt\n",
      "KeyboardInterrupt\n",
      "KeyboardInterrupt\n",
      "  File \"<ipython-input-1-3f2566e9308a>\", line 268, in <lambda>\n",
      "    ret = sorted(string.split(), key=lambda x: len(x), reverse=True)[:k]\n",
      "KeyboardInterrupt\n",
      "KeyboardInterrupt\n",
      "KeyboardInterrupt\n",
      "KeyboardInterrupt\n",
      "KeyboardInterrupt\n",
      "KeyboardInterrupt\n",
      "KeyboardInterrupt\n"
     ]
    },
    {
     "ename": "KeyboardInterrupt",
     "evalue": "",
     "output_type": "error",
     "traceback": [
      "\u001b[0;31m---------------------------------------------------------------------------\u001b[0m",
      "\u001b[0;31mKeyboardInterrupt\u001b[0m                         Traceback (most recent call last)",
      "\u001b[0;32m/tmp2/wsdm/digsci/final_model/preprocess.ipynb\u001b[0m in \u001b[0;36m<module>\u001b[0;34m\u001b[0m\n\u001b[1;32m    800\u001b[0m                              \u001b[0mpostpostfix\u001b[0m\u001b[0;34m=\u001b[0m\u001b[0;34m'_test'\u001b[0m\u001b[0;34m,\u001b[0m\u001b[0;34m\u001b[0m\u001b[0;34m\u001b[0m\u001b[0m\n\u001b[1;32m    801\u001b[0m                              \u001b[0mchunk_size\u001b[0m\u001b[0;34m=\u001b[0m\u001b[0mtest_data\u001b[0m\u001b[0;34m.\u001b[0m\u001b[0mshape\u001b[0m\u001b[0;34m[\u001b[0m\u001b[0;36m0\u001b[0m\u001b[0;34m]\u001b[0m\u001b[0;34m//\u001b[0m\u001b[0mworkers\u001b[0m\u001b[0;34m+\u001b[0m\u001b[0;36m1\u001b[0m\u001b[0;34m,\u001b[0m\u001b[0;34m\u001b[0m\u001b[0;34m\u001b[0m\u001b[0m\n\u001b[0;32m--> 802\u001b[0;31m                              worker=workers)\n\u001b[0m\u001b[1;32m    803\u001b[0m     \u001b[0mtest_feat\u001b[0m\u001b[0;34m.\u001b[0m\u001b[0mto_csv\u001b[0m\u001b[0;34m(\u001b[0m\u001b[0mdata_path\u001b[0m\u001b[0;34m+\u001b[0m\u001b[0;34m'test_data_merge_{}_{}_featall.csv'\u001b[0m\u001b[0;34m.\u001b[0m\u001b[0mformat\u001b[0m\u001b[0;34m(\u001b[0m\u001b[0mn\u001b[0m\u001b[0;34m,\u001b[0m \u001b[0mpaper_thd\u001b[0m\u001b[0;34m)\u001b[0m\u001b[0;34m,\u001b[0m \u001b[0mindex\u001b[0m\u001b[0;34m=\u001b[0m\u001b[0;32mFalse\u001b[0m\u001b[0;34m)\u001b[0m\u001b[0;34m\u001b[0m\u001b[0;34m\u001b[0m\u001b[0m\n\u001b[1;32m    804\u001b[0m     \u001b[0mprint\u001b[0m\u001b[0;34m(\u001b[0m\u001b[0mtest_feat\u001b[0m\u001b[0;34m.\u001b[0m\u001b[0mshape\u001b[0m\u001b[0;34m)\u001b[0m\u001b[0;34m\u001b[0m\u001b[0;34m\u001b[0m\u001b[0m\n",
      "\u001b[0;32m/tmp2/wsdm/digsci/final_model/util.py\u001b[0m in \u001b[0;36mpool_extract\u001b[0;34m(data, f, vec_model, postpostfix, chunk_size, worker)\u001b[0m\n\u001b[1;32m    143\u001b[0m         \u001b[0mres\u001b[0m\u001b[0;34m.\u001b[0m\u001b[0mappend\u001b[0m\u001b[0;34m(\u001b[0m\u001b[0mrslt\u001b[0m\u001b[0;34m)\u001b[0m\u001b[0;34m\u001b[0m\u001b[0;34m\u001b[0m\u001b[0m\n\u001b[1;32m    144\u001b[0m     \u001b[0mp\u001b[0m\u001b[0;34m.\u001b[0m\u001b[0mclose\u001b[0m\u001b[0;34m(\u001b[0m\u001b[0;34m)\u001b[0m\u001b[0;34m\u001b[0m\u001b[0;34m\u001b[0m\u001b[0m\n\u001b[0;32m--> 145\u001b[0;31m     \u001b[0mp\u001b[0m\u001b[0;34m.\u001b[0m\u001b[0mjoin\u001b[0m\u001b[0;34m(\u001b[0m\u001b[0;34m)\u001b[0m\u001b[0;34m\u001b[0m\u001b[0;34m\u001b[0m\u001b[0m\n\u001b[0m\u001b[1;32m    146\u001b[0m     \u001b[0mt2\u001b[0m \u001b[0;34m=\u001b[0m \u001b[0mtime\u001b[0m\u001b[0;34m.\u001b[0m\u001b[0mtime\u001b[0m\u001b[0;34m(\u001b[0m\u001b[0;34m)\u001b[0m\u001b[0;34m\u001b[0m\u001b[0;34m\u001b[0m\u001b[0m\n\u001b[1;32m    147\u001b[0m     \u001b[0mresults\u001b[0m \u001b[0;34m=\u001b[0m \u001b[0mpd\u001b[0m\u001b[0;34m.\u001b[0m\u001b[0mconcat\u001b[0m\u001b[0;34m(\u001b[0m\u001b[0;34m[\u001b[0m\u001b[0mi\u001b[0m\u001b[0;34m.\u001b[0m\u001b[0mget\u001b[0m\u001b[0;34m(\u001b[0m\u001b[0;34m)\u001b[0m \u001b[0;32mfor\u001b[0m \u001b[0mi\u001b[0m \u001b[0;32min\u001b[0m \u001b[0mres\u001b[0m\u001b[0;34m]\u001b[0m\u001b[0;34m,\u001b[0m \u001b[0maxis\u001b[0m\u001b[0;34m=\u001b[0m\u001b[0;36m0\u001b[0m\u001b[0;34m,\u001b[0m \u001b[0mignore_index\u001b[0m\u001b[0;34m=\u001b[0m\u001b[0;32mTrue\u001b[0m\u001b[0;34m)\u001b[0m\u001b[0;34m\u001b[0m\u001b[0;34m\u001b[0m\u001b[0m\n",
      "\u001b[0;32m/usr/lib/python3.7/multiprocessing/pool.py\u001b[0m in \u001b[0;36mjoin\u001b[0;34m(self)\u001b[0m\n\u001b[1;32m    554\u001b[0m         \u001b[0;32melif\u001b[0m \u001b[0mself\u001b[0m\u001b[0;34m.\u001b[0m\u001b[0m_state\u001b[0m \u001b[0;32mnot\u001b[0m \u001b[0;32min\u001b[0m \u001b[0;34m(\u001b[0m\u001b[0mCLOSE\u001b[0m\u001b[0;34m,\u001b[0m \u001b[0mTERMINATE\u001b[0m\u001b[0;34m)\u001b[0m\u001b[0;34m:\u001b[0m\u001b[0;34m\u001b[0m\u001b[0;34m\u001b[0m\u001b[0m\n\u001b[1;32m    555\u001b[0m             \u001b[0;32mraise\u001b[0m \u001b[0mValueError\u001b[0m\u001b[0;34m(\u001b[0m\u001b[0;34m\"In unknown state\"\u001b[0m\u001b[0;34m)\u001b[0m\u001b[0;34m\u001b[0m\u001b[0;34m\u001b[0m\u001b[0m\n\u001b[0;32m--> 556\u001b[0;31m         \u001b[0mself\u001b[0m\u001b[0;34m.\u001b[0m\u001b[0m_worker_handler\u001b[0m\u001b[0;34m.\u001b[0m\u001b[0mjoin\u001b[0m\u001b[0;34m(\u001b[0m\u001b[0;34m)\u001b[0m\u001b[0;34m\u001b[0m\u001b[0;34m\u001b[0m\u001b[0m\n\u001b[0m\u001b[1;32m    557\u001b[0m         \u001b[0mself\u001b[0m\u001b[0;34m.\u001b[0m\u001b[0m_task_handler\u001b[0m\u001b[0;34m.\u001b[0m\u001b[0mjoin\u001b[0m\u001b[0;34m(\u001b[0m\u001b[0;34m)\u001b[0m\u001b[0;34m\u001b[0m\u001b[0;34m\u001b[0m\u001b[0m\n\u001b[1;32m    558\u001b[0m         \u001b[0mself\u001b[0m\u001b[0;34m.\u001b[0m\u001b[0m_result_handler\u001b[0m\u001b[0;34m.\u001b[0m\u001b[0mjoin\u001b[0m\u001b[0;34m(\u001b[0m\u001b[0;34m)\u001b[0m\u001b[0;34m\u001b[0m\u001b[0;34m\u001b[0m\u001b[0m\n",
      "\u001b[0;32m/usr/lib/python3.7/threading.py\u001b[0m in \u001b[0;36mjoin\u001b[0;34m(self, timeout)\u001b[0m\n\u001b[1;32m   1042\u001b[0m \u001b[0;34m\u001b[0m\u001b[0m\n\u001b[1;32m   1043\u001b[0m         \u001b[0;32mif\u001b[0m \u001b[0mtimeout\u001b[0m \u001b[0;32mis\u001b[0m \u001b[0;32mNone\u001b[0m\u001b[0;34m:\u001b[0m\u001b[0;34m\u001b[0m\u001b[0;34m\u001b[0m\u001b[0m\n\u001b[0;32m-> 1044\u001b[0;31m             \u001b[0mself\u001b[0m\u001b[0;34m.\u001b[0m\u001b[0m_wait_for_tstate_lock\u001b[0m\u001b[0;34m(\u001b[0m\u001b[0;34m)\u001b[0m\u001b[0;34m\u001b[0m\u001b[0;34m\u001b[0m\u001b[0m\n\u001b[0m\u001b[1;32m   1045\u001b[0m         \u001b[0;32melse\u001b[0m\u001b[0;34m:\u001b[0m\u001b[0;34m\u001b[0m\u001b[0;34m\u001b[0m\u001b[0m\n\u001b[1;32m   1046\u001b[0m             \u001b[0;31m# the behavior of a negative timeout isn't documented, but\u001b[0m\u001b[0;34m\u001b[0m\u001b[0;34m\u001b[0m\u001b[0;34m\u001b[0m\u001b[0m\n",
      "\u001b[0;32m/usr/lib/python3.7/threading.py\u001b[0m in \u001b[0;36m_wait_for_tstate_lock\u001b[0;34m(self, block, timeout)\u001b[0m\n\u001b[1;32m   1058\u001b[0m         \u001b[0;32mif\u001b[0m \u001b[0mlock\u001b[0m \u001b[0;32mis\u001b[0m \u001b[0;32mNone\u001b[0m\u001b[0;34m:\u001b[0m  \u001b[0;31m# already determined that the C code is done\u001b[0m\u001b[0;34m\u001b[0m\u001b[0;34m\u001b[0m\u001b[0m\n\u001b[1;32m   1059\u001b[0m             \u001b[0;32massert\u001b[0m \u001b[0mself\u001b[0m\u001b[0;34m.\u001b[0m\u001b[0m_is_stopped\u001b[0m\u001b[0;34m\u001b[0m\u001b[0;34m\u001b[0m\u001b[0m\n\u001b[0;32m-> 1060\u001b[0;31m         \u001b[0;32melif\u001b[0m \u001b[0mlock\u001b[0m\u001b[0;34m.\u001b[0m\u001b[0macquire\u001b[0m\u001b[0;34m(\u001b[0m\u001b[0mblock\u001b[0m\u001b[0;34m,\u001b[0m \u001b[0mtimeout\u001b[0m\u001b[0;34m)\u001b[0m\u001b[0;34m:\u001b[0m\u001b[0;34m\u001b[0m\u001b[0;34m\u001b[0m\u001b[0m\n\u001b[0m\u001b[1;32m   1061\u001b[0m             \u001b[0mlock\u001b[0m\u001b[0;34m.\u001b[0m\u001b[0mrelease\u001b[0m\u001b[0;34m(\u001b[0m\u001b[0;34m)\u001b[0m\u001b[0;34m\u001b[0m\u001b[0;34m\u001b[0m\u001b[0m\n\u001b[1;32m   1062\u001b[0m             \u001b[0mself\u001b[0m\u001b[0;34m.\u001b[0m\u001b[0m_stop\u001b[0m\u001b[0;34m(\u001b[0m\u001b[0;34m)\u001b[0m\u001b[0;34m\u001b[0m\u001b[0;34m\u001b[0m\u001b[0m\n",
      "\u001b[0;31mKeyboardInterrupt\u001b[0m: "
     ]
    }
   ],
   "source": [
    "%run preprocess.ipynb"
   ]
  },
  {
   "cell_type": "code",
   "execution_count": 2,
   "metadata": {},
   "outputs": [],
   "source": [
    "import lightgbm as lgb\n",
    "from sklearn.model_selection import StratifiedKFold\n",
    "from sklearn.model_selection import train_test_split\n",
    "import multiprocessing as mp\n",
    "import pandas as pd\n",
    "import numpy as np\n",
    "import re\n",
    "import time\n",
    "from tqdm.notebook import tqdm\n",
    "from util import pre_process\n",
    "import pickle\n",
    "import gc\n",
    "import warnings\n",
    "warnings.simplefilter(action='ignore', category=FutureWarning)\n",
    "warnings.filterwarnings('ignore')"
   ]
  },
  {
   "cell_type": "code",
   "execution_count": 3,
   "metadata": {},
   "outputs": [],
   "source": [
    "data_path = '../../data_2020/'\n",
    "model_path = 'models/'\n",
    "other_path = 'others/'\n",
    "n = 80\n",
    "drop_no_content = True\n",
    "drop_no_year = True\n",
    "drop_keywords = False\n",
    "drop_no_abstract = False\n",
    "MIN_LEN = 7\n",
    "workers = mp.cpu_count()//2\n",
    "paper_thd = 45000\n",
    "num_leaves = 64\n",
    "reg_alpha = 1\n",
    "reg_lambda = 0.1\n",
    "objective = 'binary'\n",
    "max_depth = -1\n",
    "learning_rate = 0.1\n",
    "min_child_samples = 5\n",
    "n_estimators = 5000\n",
    "subsample = 0.8\n",
    "colsample_bytree = 0.8\n",
    "seed = 9487"
   ]
  },
  {
   "cell_type": "markdown",
   "metadata": {},
   "source": [
    "### load data\n",
    "***"
   ]
  },
  {
   "cell_type": "code",
   "execution_count": 4,
   "metadata": {
    "scrolled": true
   },
   "outputs": [
    {
     "ename": "FileNotFoundError",
     "evalue": "[Errno 2] File b'../../data_2020/train_data_merge_80_2.csv' does not exist: b'../../data_2020/train_data_merge_80_2.csv'",
     "output_type": "error",
     "traceback": [
      "\u001b[0;31m---------------------------------------------------------------------------\u001b[0m",
      "\u001b[0;31mFileNotFoundError\u001b[0m                         Traceback (most recent call last)",
      "\u001b[0;32m<ipython-input-4-406ab09f6dc9>\u001b[0m in \u001b[0;36m<module>\u001b[0;34m\u001b[0m\n\u001b[1;32m      3\u001b[0m \u001b[0;34m\u001b[0m\u001b[0m\n\u001b[1;32m      4\u001b[0m \u001b[0;31m# get meta\u001b[0m\u001b[0;34m\u001b[0m\u001b[0;34m\u001b[0m\u001b[0;34m\u001b[0m\u001b[0m\n\u001b[0;32m----> 5\u001b[0;31m \u001b[0mtrain_data\u001b[0m \u001b[0;34m=\u001b[0m \u001b[0mpd\u001b[0m\u001b[0;34m.\u001b[0m\u001b[0mread_csv\u001b[0m\u001b[0;34m(\u001b[0m\u001b[0mdata_path\u001b[0m\u001b[0;34m+\u001b[0m\u001b[0;34m'train_data_merge_{}_2.csv'\u001b[0m\u001b[0;34m.\u001b[0m\u001b[0mformat\u001b[0m\u001b[0;34m(\u001b[0m\u001b[0mn\u001b[0m\u001b[0;34m)\u001b[0m\u001b[0;34m)\u001b[0m\u001b[0;34m[\u001b[0m\u001b[0;34m[\u001b[0m\u001b[0;34m'description_id'\u001b[0m\u001b[0;34m,\u001b[0m\u001b[0;34m'label'\u001b[0m\u001b[0;34m,\u001b[0m\u001b[0;34m'journal'\u001b[0m\u001b[0;34m]\u001b[0m\u001b[0;34m]\u001b[0m\u001b[0;34m\u001b[0m\u001b[0;34m\u001b[0m\u001b[0m\n\u001b[0m\u001b[1;32m      6\u001b[0m \u001b[0mtest_data\u001b[0m \u001b[0;34m=\u001b[0m \u001b[0mpd\u001b[0m\u001b[0;34m.\u001b[0m\u001b[0mread_csv\u001b[0m\u001b[0;34m(\u001b[0m\u001b[0mdata_path\u001b[0m\u001b[0;34m+\u001b[0m\u001b[0;34m'test_data_merge_{}_{}_2.csv'\u001b[0m\u001b[0;34m.\u001b[0m\u001b[0mformat\u001b[0m\u001b[0;34m(\u001b[0m\u001b[0mn\u001b[0m\u001b[0;34m,\u001b[0m \u001b[0mpaper_thd\u001b[0m\u001b[0;34m)\u001b[0m\u001b[0;34m)\u001b[0m\u001b[0;34m[\u001b[0m\u001b[0;34m[\u001b[0m\u001b[0;34m'paper_id'\u001b[0m\u001b[0;34m,\u001b[0m\u001b[0;34m'description_id'\u001b[0m\u001b[0;34m,\u001b[0m\u001b[0;34m'journal'\u001b[0m\u001b[0;34m,\u001b[0m\u001b[0;34m'year'\u001b[0m\u001b[0;34m,\u001b[0m\u001b[0;34m'keywords'\u001b[0m\u001b[0;34m]\u001b[0m\u001b[0;34m]\u001b[0m\u001b[0;34m.\u001b[0m\u001b[0mfillna\u001b[0m\u001b[0;34m(\u001b[0m\u001b[0;34m''\u001b[0m\u001b[0;34m)\u001b[0m\u001b[0;34m\u001b[0m\u001b[0;34m\u001b[0m\u001b[0m\n\u001b[1;32m      7\u001b[0m \u001b[0mabstract\u001b[0m \u001b[0;34m=\u001b[0m \u001b[0mpd\u001b[0m\u001b[0;34m.\u001b[0m\u001b[0mread_csv\u001b[0m\u001b[0;34m(\u001b[0m\u001b[0mdata_path\u001b[0m\u001b[0;34m+\u001b[0m\u001b[0;34m'test_data_merge_{}_{}_2.csv'\u001b[0m\u001b[0;34m.\u001b[0m\u001b[0mformat\u001b[0m\u001b[0;34m(\u001b[0m\u001b[0mn\u001b[0m\u001b[0;34m,\u001b[0m \u001b[0mpaper_thd\u001b[0m\u001b[0;34m)\u001b[0m\u001b[0;34m)\u001b[0m\u001b[0;34m[\u001b[0m\u001b[0;34m[\u001b[0m\u001b[0;34m'abstract'\u001b[0m\u001b[0;34m]\u001b[0m\u001b[0;34m]\u001b[0m\u001b[0;34m.\u001b[0m\u001b[0mfillna\u001b[0m\u001b[0;34m(\u001b[0m\u001b[0;34m'NO_CONTENT'\u001b[0m\u001b[0;34m)\u001b[0m\u001b[0;34m\u001b[0m\u001b[0;34m\u001b[0m\u001b[0m\n",
      "\u001b[0;32m/usr/local/lib/python3.7/dist-packages/pandas/io/parsers.py\u001b[0m in \u001b[0;36mparser_f\u001b[0;34m(filepath_or_buffer, sep, delimiter, header, names, index_col, usecols, squeeze, prefix, mangle_dupe_cols, dtype, engine, converters, true_values, false_values, skipinitialspace, skiprows, skipfooter, nrows, na_values, keep_default_na, na_filter, verbose, skip_blank_lines, parse_dates, infer_datetime_format, keep_date_col, date_parser, dayfirst, cache_dates, iterator, chunksize, compression, thousands, decimal, lineterminator, quotechar, quoting, doublequote, escapechar, comment, encoding, dialect, error_bad_lines, warn_bad_lines, delim_whitespace, low_memory, memory_map, float_precision)\u001b[0m\n\u001b[1;32m    683\u001b[0m         )\n\u001b[1;32m    684\u001b[0m \u001b[0;34m\u001b[0m\u001b[0m\n\u001b[0;32m--> 685\u001b[0;31m         \u001b[0;32mreturn\u001b[0m \u001b[0m_read\u001b[0m\u001b[0;34m(\u001b[0m\u001b[0mfilepath_or_buffer\u001b[0m\u001b[0;34m,\u001b[0m \u001b[0mkwds\u001b[0m\u001b[0;34m)\u001b[0m\u001b[0;34m\u001b[0m\u001b[0;34m\u001b[0m\u001b[0m\n\u001b[0m\u001b[1;32m    686\u001b[0m \u001b[0;34m\u001b[0m\u001b[0m\n\u001b[1;32m    687\u001b[0m     \u001b[0mparser_f\u001b[0m\u001b[0;34m.\u001b[0m\u001b[0m__name__\u001b[0m \u001b[0;34m=\u001b[0m \u001b[0mname\u001b[0m\u001b[0;34m\u001b[0m\u001b[0;34m\u001b[0m\u001b[0m\n",
      "\u001b[0;32m/usr/local/lib/python3.7/dist-packages/pandas/io/parsers.py\u001b[0m in \u001b[0;36m_read\u001b[0;34m(filepath_or_buffer, kwds)\u001b[0m\n\u001b[1;32m    455\u001b[0m \u001b[0;34m\u001b[0m\u001b[0m\n\u001b[1;32m    456\u001b[0m     \u001b[0;31m# Create the parser.\u001b[0m\u001b[0;34m\u001b[0m\u001b[0;34m\u001b[0m\u001b[0;34m\u001b[0m\u001b[0m\n\u001b[0;32m--> 457\u001b[0;31m     \u001b[0mparser\u001b[0m \u001b[0;34m=\u001b[0m \u001b[0mTextFileReader\u001b[0m\u001b[0;34m(\u001b[0m\u001b[0mfp_or_buf\u001b[0m\u001b[0;34m,\u001b[0m \u001b[0;34m**\u001b[0m\u001b[0mkwds\u001b[0m\u001b[0;34m)\u001b[0m\u001b[0;34m\u001b[0m\u001b[0;34m\u001b[0m\u001b[0m\n\u001b[0m\u001b[1;32m    458\u001b[0m \u001b[0;34m\u001b[0m\u001b[0m\n\u001b[1;32m    459\u001b[0m     \u001b[0;32mif\u001b[0m \u001b[0mchunksize\u001b[0m \u001b[0;32mor\u001b[0m \u001b[0miterator\u001b[0m\u001b[0;34m:\u001b[0m\u001b[0;34m\u001b[0m\u001b[0;34m\u001b[0m\u001b[0m\n",
      "\u001b[0;32m/usr/local/lib/python3.7/dist-packages/pandas/io/parsers.py\u001b[0m in \u001b[0;36m__init__\u001b[0;34m(self, f, engine, **kwds)\u001b[0m\n\u001b[1;32m    893\u001b[0m             \u001b[0mself\u001b[0m\u001b[0;34m.\u001b[0m\u001b[0moptions\u001b[0m\u001b[0;34m[\u001b[0m\u001b[0;34m\"has_index_names\"\u001b[0m\u001b[0;34m]\u001b[0m \u001b[0;34m=\u001b[0m \u001b[0mkwds\u001b[0m\u001b[0;34m[\u001b[0m\u001b[0;34m\"has_index_names\"\u001b[0m\u001b[0;34m]\u001b[0m\u001b[0;34m\u001b[0m\u001b[0;34m\u001b[0m\u001b[0m\n\u001b[1;32m    894\u001b[0m \u001b[0;34m\u001b[0m\u001b[0m\n\u001b[0;32m--> 895\u001b[0;31m         \u001b[0mself\u001b[0m\u001b[0;34m.\u001b[0m\u001b[0m_make_engine\u001b[0m\u001b[0;34m(\u001b[0m\u001b[0mself\u001b[0m\u001b[0;34m.\u001b[0m\u001b[0mengine\u001b[0m\u001b[0;34m)\u001b[0m\u001b[0;34m\u001b[0m\u001b[0;34m\u001b[0m\u001b[0m\n\u001b[0m\u001b[1;32m    896\u001b[0m \u001b[0;34m\u001b[0m\u001b[0m\n\u001b[1;32m    897\u001b[0m     \u001b[0;32mdef\u001b[0m \u001b[0mclose\u001b[0m\u001b[0;34m(\u001b[0m\u001b[0mself\u001b[0m\u001b[0;34m)\u001b[0m\u001b[0;34m:\u001b[0m\u001b[0;34m\u001b[0m\u001b[0;34m\u001b[0m\u001b[0m\n",
      "\u001b[0;32m/usr/local/lib/python3.7/dist-packages/pandas/io/parsers.py\u001b[0m in \u001b[0;36m_make_engine\u001b[0;34m(self, engine)\u001b[0m\n\u001b[1;32m   1133\u001b[0m     \u001b[0;32mdef\u001b[0m \u001b[0m_make_engine\u001b[0m\u001b[0;34m(\u001b[0m\u001b[0mself\u001b[0m\u001b[0;34m,\u001b[0m \u001b[0mengine\u001b[0m\u001b[0;34m=\u001b[0m\u001b[0;34m\"c\"\u001b[0m\u001b[0;34m)\u001b[0m\u001b[0;34m:\u001b[0m\u001b[0;34m\u001b[0m\u001b[0;34m\u001b[0m\u001b[0m\n\u001b[1;32m   1134\u001b[0m         \u001b[0;32mif\u001b[0m \u001b[0mengine\u001b[0m \u001b[0;34m==\u001b[0m \u001b[0;34m\"c\"\u001b[0m\u001b[0;34m:\u001b[0m\u001b[0;34m\u001b[0m\u001b[0;34m\u001b[0m\u001b[0m\n\u001b[0;32m-> 1135\u001b[0;31m             \u001b[0mself\u001b[0m\u001b[0;34m.\u001b[0m\u001b[0m_engine\u001b[0m \u001b[0;34m=\u001b[0m \u001b[0mCParserWrapper\u001b[0m\u001b[0;34m(\u001b[0m\u001b[0mself\u001b[0m\u001b[0;34m.\u001b[0m\u001b[0mf\u001b[0m\u001b[0;34m,\u001b[0m \u001b[0;34m**\u001b[0m\u001b[0mself\u001b[0m\u001b[0;34m.\u001b[0m\u001b[0moptions\u001b[0m\u001b[0;34m)\u001b[0m\u001b[0;34m\u001b[0m\u001b[0;34m\u001b[0m\u001b[0m\n\u001b[0m\u001b[1;32m   1136\u001b[0m         \u001b[0;32melse\u001b[0m\u001b[0;34m:\u001b[0m\u001b[0;34m\u001b[0m\u001b[0;34m\u001b[0m\u001b[0m\n\u001b[1;32m   1137\u001b[0m             \u001b[0;32mif\u001b[0m \u001b[0mengine\u001b[0m \u001b[0;34m==\u001b[0m \u001b[0;34m\"python\"\u001b[0m\u001b[0;34m:\u001b[0m\u001b[0;34m\u001b[0m\u001b[0;34m\u001b[0m\u001b[0m\n",
      "\u001b[0;32m/usr/local/lib/python3.7/dist-packages/pandas/io/parsers.py\u001b[0m in \u001b[0;36m__init__\u001b[0;34m(self, src, **kwds)\u001b[0m\n\u001b[1;32m   1915\u001b[0m         \u001b[0mkwds\u001b[0m\u001b[0;34m[\u001b[0m\u001b[0;34m\"usecols\"\u001b[0m\u001b[0;34m]\u001b[0m \u001b[0;34m=\u001b[0m \u001b[0mself\u001b[0m\u001b[0;34m.\u001b[0m\u001b[0musecols\u001b[0m\u001b[0;34m\u001b[0m\u001b[0;34m\u001b[0m\u001b[0m\n\u001b[1;32m   1916\u001b[0m \u001b[0;34m\u001b[0m\u001b[0m\n\u001b[0;32m-> 1917\u001b[0;31m         \u001b[0mself\u001b[0m\u001b[0;34m.\u001b[0m\u001b[0m_reader\u001b[0m \u001b[0;34m=\u001b[0m \u001b[0mparsers\u001b[0m\u001b[0;34m.\u001b[0m\u001b[0mTextReader\u001b[0m\u001b[0;34m(\u001b[0m\u001b[0msrc\u001b[0m\u001b[0;34m,\u001b[0m \u001b[0;34m**\u001b[0m\u001b[0mkwds\u001b[0m\u001b[0;34m)\u001b[0m\u001b[0;34m\u001b[0m\u001b[0;34m\u001b[0m\u001b[0m\n\u001b[0m\u001b[1;32m   1918\u001b[0m         \u001b[0mself\u001b[0m\u001b[0;34m.\u001b[0m\u001b[0munnamed_cols\u001b[0m \u001b[0;34m=\u001b[0m \u001b[0mself\u001b[0m\u001b[0;34m.\u001b[0m\u001b[0m_reader\u001b[0m\u001b[0;34m.\u001b[0m\u001b[0munnamed_cols\u001b[0m\u001b[0;34m\u001b[0m\u001b[0;34m\u001b[0m\u001b[0m\n\u001b[1;32m   1919\u001b[0m \u001b[0;34m\u001b[0m\u001b[0m\n",
      "\u001b[0;32mpandas/_libs/parsers.pyx\u001b[0m in \u001b[0;36mpandas._libs.parsers.TextReader.__cinit__\u001b[0;34m()\u001b[0m\n",
      "\u001b[0;32mpandas/_libs/parsers.pyx\u001b[0m in \u001b[0;36mpandas._libs.parsers.TextReader._setup_parser_source\u001b[0;34m()\u001b[0m\n",
      "\u001b[0;31mFileNotFoundError\u001b[0m: [Errno 2] File b'../../data_2020/train_data_merge_80_2.csv' does not exist: b'../../data_2020/train_data_merge_80_2.csv'"
     ]
    }
   ],
   "source": [
    "# for prediction\n",
    "test = pd.read_csv(data_path+'validation.csv')\n",
    "\n",
    "# get meta\n",
    "train_data = pd.read_csv(data_path+'train_data_merge_{}_2.csv'.format(n))[['description_id','label','journal']]\n",
    "test_data = pd.read_csv(data_path+'test_data_merge_{}_{}_2.csv'.format(n, paper_thd))[['paper_id','description_id','journal','year','keywords']].fillna('')\n",
    "abstract = pd.read_csv(data_path+'test_data_merge_{}_{}_2.csv'.format(n, paper_thd))[['abstract']].fillna('NO_CONTENT')\n",
    "print(train_data.shape, test_data.shape)\n",
    "\n",
    "# drop\n",
    "keep_idxs = []\n",
    "if drop_no_content:\n",
    "    test_have_content_idxs = test_data.index[test_data['journal'] != 'no-content'].tolist()\n",
    "    keep_idxs += test_have_content_idxs\n",
    "    print(len(keep_idxs))\n",
    "if drop_no_year:\n",
    "    test_have_year_idxs = test_data.index[test_data['year'] != ''].tolist()\n",
    "    if len(keep_idxs) > 0:\n",
    "        keep_idxs = list(set(test_have_year_idxs).intersection(set(keep_idxs)))\n",
    "    else:\n",
    "        keep_idxs += test_have_year_idxs\n",
    "    print(len(keep_idxs))\n",
    "if drop_keywords:\n",
    "    test_no_keywords_idxs = test_data.index[test_data['keywords'] == ''].tolist()\n",
    "    if len(keep_idxs) > 0:\n",
    "        keep_idxs = list(set(test_no_keywords_idxs).intersection(set(keep_idxs)))\n",
    "    else:\n",
    "        keep_idxs += test_have_year_idxs\n",
    "    print(len(keep_idxs))\n",
    "if drop_no_abstract:\n",
    "    test_have_abstract_idxs = abstract.index[abstract['abstract'] != 'NO_CONTENT'].tolist()\n",
    "    if len(keep_idxs) > 0:\n",
    "        keep_idxs = list(set(test_have_abstract_idxs).intersection(set(keep_idxs)))\n",
    "    else:\n",
    "        keep_idxs += test_have_abstract_idxs\n",
    "    print(len(keep_idxs))\n",
    "        \n",
    "# sort indexs\n",
    "keep_idxs = sorted(keep_idxs)\n",
    "if not drop_no_content and not drop_no_year and not drop_keywords and not drop_no_abstract:\n",
    "    keep_idxs = [i for i in range(test_data.shape[0])]\n",
    "    \n",
    "# get feature\n",
    "train_x = pd.read_csv(data_path+'train_data_merge_{}_featall_3.csv'.format(n))\n",
    "test_x = pd.read_csv(data_path+'test_data_merge_{}_{}_featall_2.csv'.format(n, paper_thd))\n",
    "train_y = train_data[['label']]\n",
    "print(train_x.shape, test_x.shape, train_y.shape)\n",
    "test_x = test_x.iloc[keep_idxs]\n",
    "test_data = test_data.iloc[keep_idxs]\n",
    "\n",
    "test_x.shape, test_data.shape"
   ]
  },
  {
   "cell_type": "code",
   "execution_count": null,
   "metadata": {},
   "outputs": [],
   "source": [
    "# # drop feature\n",
    "# drop = 'psu_key'\n",
    "# cols = [col for col in test_x.columns.values if not col.__contains__(drop)]\n",
    "# train_x = train_x[cols]\n",
    "# test_x = test_x[cols]\n",
    "# train_x.shape, test_x.shape"
   ]
  },
  {
   "cell_type": "markdown",
   "metadata": {},
   "source": [
    "### train model - lgb\n",
    "***"
   ]
  },
  {
   "cell_type": "code",
   "execution_count": null,
   "metadata": {},
   "outputs": [],
   "source": [
    "def lgb_train(train_x,train_y,valid_x,valid_y):\n",
    "    print('train_x shape:',train_x.shape)\n",
    "    lgb_model = lgb.LGBMClassifier(num_leaves=num_leaves,\n",
    "                                   reg_alpha=reg_alpha,\n",
    "                                   reg_lambda=reg_lambda,\n",
    "                                   objective=objective,\n",
    "                                   max_depth=max_depth,\n",
    "                                   learning_rate=learning_rate,\n",
    "                                   min_child_samples=min_child_samples,\n",
    "                                   n_estimators=n_estimators,\n",
    "                                   subsample=subsample,\n",
    "                                   colsample_bytree=colsample_bytree,\n",
    "                                   n_jobs=workers,\n",
    "                                   random_state=seed)\n",
    "    lgb_model.fit(train_x, train_y,\n",
    "                  eval_set=[(valid_x, valid_y)],\n",
    "                  eval_metric='auc',\n",
    "                  early_stopping_rounds=100,\n",
    "                  verbose=100)\n",
    "    # im\n",
    "    f_importance = pd.DataFrame(columns=['f_name', 'importance'])\n",
    "    f_importance['importance'] = lgb_model.feature_importances_\n",
    "    f_importance['f_name'] = train_x.columns.values\n",
    "    f_importance['f_score'] = f_importance['importance'] / f_importance['importance'].sum()\n",
    "    f_importance.sort_values(['f_score'], ascending=False, inplace=True)\n",
    "    f_importance.drop(columns=['importance'], axis=1, inplace=True)\n",
    "    print(f_importance)\n",
    "    f_importance.to_csv('im_2.csv',index=False)\n",
    "    return lgb_model"
   ]
  },
  {
   "cell_type": "markdown",
   "metadata": {},
   "source": [
    "### CV\n",
    "***"
   ]
  },
  {
   "cell_type": "code",
   "execution_count": null,
   "metadata": {
    "scrolled": true
   },
   "outputs": [],
   "source": [
    "%%time\n",
    "n_splits = 10\n",
    "folds = StratifiedKFold(n_splits=n_splits, shuffle=True, random_state=seed)\n",
    "train_preds = np.zeros(train_x.shape[0])\n",
    "test_preds = []\n",
    "models = []\n",
    "\n",
    "for fold_, (train_idx, val_idx) in enumerate(folds.split(train_x, train_y)):\n",
    "    print(\"fold n°{}\".format(fold_+1))\n",
    "    train_flod_x = train_x.iloc[train_idx]\n",
    "    train_flod_y = train_y.iloc[train_idx]\n",
    "    validate_flod_x = train_x.iloc[val_idx]\n",
    "    validate_flod_y = train_y.iloc[val_idx]\n",
    "    model = lgb_train(train_flod_x,train_flod_y,validate_flod_x,validate_flod_y)\n",
    "    train_preds[val_idx] = model.predict_proba(validate_flod_x)[:, 1]\n",
    "    test_preds.append(model.predict_proba(test_x)[:, 1])\n",
    "    models.append(model)"
   ]
  },
  {
   "cell_type": "markdown",
   "metadata": {},
   "source": [
    "### save & load model\n",
    "***"
   ]
  },
  {
   "cell_type": "code",
   "execution_count": null,
   "metadata": {},
   "outputs": [],
   "source": [
    "# save\n",
    "for i in range(len(models)):\n",
    "    with open(model_path+'lgb_new_{}_2'.format(i), 'wb') as f:\n",
    "        pickle.dump(models[i], f)"
   ]
  },
  {
   "cell_type": "code",
   "execution_count": null,
   "metadata": {},
   "outputs": [],
   "source": [
    "# # load\n",
    "# models = []\n",
    "# for i in range(10):\n",
    "#     with open(model_path+'lgb_{}'.format(i), 'rb') as f:\n",
    "#         models.append(pickle.load(f))"
   ]
  },
  {
   "cell_type": "markdown",
   "metadata": {},
   "source": [
    "### prediction\n",
    "***"
   ]
  },
  {
   "cell_type": "code",
   "execution_count": null,
   "metadata": {},
   "outputs": [],
   "source": [
    "%%time\n",
    "# vote\n",
    "def get_topn_paper_id(paper_id_list,preb_list,tag):\n",
    "    index = np.argsort(preb_list)\n",
    "    if len(index) < tag:\n",
    "        tag = len(index)\n",
    "        return np.nan\n",
    "    return paper_id_list[index[-tag]]\n",
    "\n",
    "did2vote = {did[0]: {} for did in test[['description_id']].fillna('none').values}\n",
    "\n",
    "for test_pred in tqdm(test_preds):\n",
    "    test_data['pred'] = test_pred\n",
    "    temp = test_data[['description_id','pred']].groupby('description_id')['pred'].agg(lambda x: list(x))\n",
    "    test_data['preb_list'] = test_data['description_id'].map(temp)\n",
    "    temp = test_data[['description_id','paper_id']].groupby('description_id')['paper_id'].agg(lambda x: list(x))\n",
    "    test_data['paper_id_list'] = test_data['description_id'].map(temp)\n",
    "    test_sub = test_data.drop_duplicates('description_id')\n",
    "\n",
    "    test_sub['p1'] = list(map(lambda x,y:get_topn_paper_id(x,y,1),test_sub['paper_id_list'],test_sub['preb_list']))\n",
    "    test_sub['p2'] = list(map(lambda x,y:get_topn_paper_id(x,y,2),test_sub['paper_id_list'],test_sub['preb_list']))\n",
    "    test_sub['p3'] = list(map(lambda x,y:get_topn_paper_id(x,y,3),test_sub['paper_id_list'],test_sub['preb_list']))\n",
    "    test_sub['p4'] = list(map(lambda x,y:get_topn_paper_id(x,y,4),test_sub['paper_id_list'],test_sub['preb_list']))\n",
    "    test_sub['p5'] = list(map(lambda x,y:get_topn_paper_id(x,y,5),test_sub['paper_id_list'],test_sub['preb_list']))\n",
    "    test_sub['p6'] = list(map(lambda x,y:get_topn_paper_id(x,y,6),test_sub['paper_id_list'],test_sub['preb_list']))\n",
    "    test_sub['p7'] = list(map(lambda x,y:get_topn_paper_id(x,y,7),test_sub['paper_id_list'],test_sub['preb_list']))\n",
    "    test_sub['p8'] = list(map(lambda x,y:get_topn_paper_id(x,y,8),test_sub['paper_id_list'],test_sub['preb_list']))\n",
    "    test_sub = test_sub[['description_id','p1','p2','p3','p4','p5','p6','p7','p8']]\n",
    "    \n",
    "    # vote\n",
    "    weights = {1: 10, 2: 8, 3: 6, 4: 5, 5: 4, 6: 3, 7: 2, 8: 1}\n",
    "    for row in test_sub.values:\n",
    "        for i in range(1, 9):\n",
    "            if row[i] not in did2vote[row[0]]:\n",
    "                did2vote[row[0]][row[i]] = weights[i]\n",
    "            else:\n",
    "                did2vote[row[0]][row[i]] += weights[i]"
   ]
  },
  {
   "cell_type": "code",
   "execution_count": null,
   "metadata": {
    "scrolled": true
   },
   "outputs": [],
   "source": [
    "# get top3\n",
    "test_sub = []\n",
    "for did in tqdm(list(did2vote.keys())):\n",
    "    tmp = [(key, did2vote[did][key]) for key in list(did2vote[did].keys())]\n",
    "    tmp.sort(key=lambda x: x[1], reverse=True)\n",
    "    top3 = []\n",
    "    for pid in tmp:\n",
    "        if type(pid[0]) != float:\n",
    "            top3.append(pid[0])\n",
    "            if len(top3) >= 3:\n",
    "                break\n",
    "    test_sub.append([did]+top3)\n",
    "test_sub = pd.DataFrame(test_sub, columns=['description_id','p1','p2','p3'])\n",
    "\n",
    "sub = test[['description_id']]\n",
    "sub = sub.merge(test_sub, on='description_id', how='left')\n",
    "sub.to_csv('predictions/prediction_{}_{}_small.csv'.format(seed, paper_thd), index=False, sep=',', header=None)"
   ]
  },
  {
   "cell_type": "code",
   "execution_count": null,
   "metadata": {
    "scrolled": true
   },
   "outputs": [],
   "source": [
    "sum(train_preds)/len(train_preds)"
   ]
  },
  {
   "cell_type": "code",
   "execution_count": null,
   "metadata": {
    "scrolled": true
   },
   "outputs": [],
   "source": [
    "sum(sum(test_preds)/len(test_preds[0]))/len(models)"
   ]
  },
  {
   "cell_type": "code",
   "execution_count": null,
   "metadata": {},
   "outputs": [],
   "source": [
    "sub[pd.isnull(sub).any(axis=1)]"
   ]
  }
 ],
 "metadata": {
  "kernelspec": {
   "display_name": "Python 3",
   "language": "python",
   "name": "python3"
  },
  "language_info": {
   "codemirror_mode": {
    "name": "ipython",
    "version": 3
   },
   "file_extension": ".py",
   "mimetype": "text/x-python",
   "name": "python",
   "nbconvert_exporter": "python",
   "pygments_lexer": "ipython3",
   "version": "3.7.5"
  },
  "toc": {
   "base_numbering": 1,
   "nav_menu": {},
   "number_sections": true,
   "sideBar": true,
   "skip_h1_title": false,
   "title_cell": "Table of Contents",
   "title_sidebar": "Contents",
   "toc_cell": false,
   "toc_position": {
    "height": "calc(100% - 180px)",
    "left": "10px",
    "top": "150px",
    "width": "384px"
   },
   "toc_section_display": true,
   "toc_window_display": true
  }
 },
 "nbformat": 4,
 "nbformat_minor": 2
}
