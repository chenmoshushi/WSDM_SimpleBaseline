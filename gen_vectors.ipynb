{
 "cells": [
  {
   "cell_type": "code",
   "execution_count": 1,
   "metadata": {},
   "outputs": [],
   "source": [
    "from gensim.models import Word2Vec\n",
    "from gensim.models.doc2vec import Doc2Vec, TaggedDocument\n",
    "import fasttext\n",
    "from gensim.models.fasttext import FastText as FT_gensim\n",
    "import fse\n",
    "from fse import IndexedList\n",
    "from fse.models import SIF, uSIF, Average\n",
    "import pandas as pd\n",
    "from tqdm.notebook import tqdm\n",
    "from multiprocessing import Process, cpu_count, Manager, Pool\n",
    "import numpy as np\n",
    "import time\n",
    "import pickle\n",
    "import warnings\n",
    "warnings.filterwarnings('ignore')"
   ]
  },
  {
   "cell_type": "code",
   "execution_count": 2,
   "metadata": {},
   "outputs": [],
   "source": [
    "data_path = '../../data_2020/'\n",
    "model_path = 'models/'\n",
    "other_path = 'others/'\n",
    "workers = cpu_count()//2"
   ]
  },
  {
   "cell_type": "code",
   "execution_count": 3,
   "metadata": {
    "scrolled": true
   },
   "outputs": [],
   "source": [
    "train = pd.read_csv(data_path+'train_pre.csv').fillna('none')\n",
    "test = pd.read_csv(data_path+'test_pre.csv').fillna('none')\n",
    "candidate = pd.read_csv(data_path+'candidate_paper_pre.csv').fillna('none')"
   ]
  },
  {
   "cell_type": "code",
   "execution_count": 4,
   "metadata": {
    "scrolled": true
   },
   "outputs": [
    {
     "data": {
      "application/vnd.jupyter.widget-view+json": {
       "model_id": "7c6126b13bca41ee828a93ee85694a60",
       "version_major": 2,
       "version_minor": 0
      },
      "text/plain": [
       "HBox(children=(FloatProgress(value=0.0, max=62974.0), HTML(value='')))"
      ]
     },
     "metadata": {},
     "output_type": "display_data"
    },
    {
     "name": "stdout",
     "output_type": "stream",
     "text": [
      "\n"
     ]
    },
    {
     "data": {
      "application/vnd.jupyter.widget-view+json": {
       "model_id": "01454baefb6844449857a1be21a39932",
       "version_major": 2,
       "version_minor": 0
      },
      "text/plain": [
       "HBox(children=(FloatProgress(value=0.0, max=34428.0), HTML(value='')))"
      ]
     },
     "metadata": {},
     "output_type": "display_data"
    },
    {
     "name": "stdout",
     "output_type": "stream",
     "text": [
      "\n"
     ]
    },
    {
     "data": {
      "application/vnd.jupyter.widget-view+json": {
       "model_id": "31c98692146246ca87d699c2eaef8fa9",
       "version_major": 2,
       "version_minor": 0
      },
      "text/plain": [
       "HBox(children=(FloatProgress(value=0.0, max=62974.0), HTML(value='')))"
      ]
     },
     "metadata": {},
     "output_type": "display_data"
    },
    {
     "name": "stdout",
     "output_type": "stream",
     "text": [
      "\n"
     ]
    },
    {
     "data": {
      "application/vnd.jupyter.widget-view+json": {
       "model_id": "083cce6b1234421dbec2759beff669ae",
       "version_major": 2,
       "version_minor": 0
      },
      "text/plain": [
       "HBox(children=(FloatProgress(value=0.0, max=34428.0), HTML(value='')))"
      ]
     },
     "metadata": {},
     "output_type": "display_data"
    },
    {
     "name": "stdout",
     "output_type": "stream",
     "text": [
      "\n"
     ]
    },
    {
     "data": {
      "application/vnd.jupyter.widget-view+json": {
       "model_id": "bbe818f599d242c5a7244133dc71e4ee",
       "version_major": 2,
       "version_minor": 0
      },
      "text/plain": [
       "HBox(children=(FloatProgress(value=0.0, max=838938.0), HTML(value='')))"
      ]
     },
     "metadata": {},
     "output_type": "display_data"
    },
    {
     "name": "stdout",
     "output_type": "stream",
     "text": [
      "\n"
     ]
    },
    {
     "data": {
      "application/vnd.jupyter.widget-view+json": {
       "model_id": "d4022e86bc474bb5b4d55083c836644c",
       "version_major": 2,
       "version_minor": 0
      },
      "text/plain": [
       "HBox(children=(FloatProgress(value=0.0, max=838938.0), HTML(value='')))"
      ]
     },
     "metadata": {},
     "output_type": "display_data"
    },
    {
     "name": "stdout",
     "output_type": "stream",
     "text": [
      "\n"
     ]
    },
    {
     "data": {
      "text/plain": [
       "(1872680, 1872678, 1872678)"
      ]
     },
     "execution_count": 4,
     "metadata": {},
     "output_type": "execute_result"
    }
   ],
   "source": [
    "corpus = [] # for word2vec and fasttext\n",
    "tagged_corpus = {} # for doc2vec\n",
    "tag2idx = {} # for SIF\n",
    "\n",
    "# key text\n",
    "for sent in tqdm(train[['description_id', 'key_text_pre']].values):\n",
    "    corpus.append(sent[1].split())\n",
    "    tag = sent[0]+'_key_train'\n",
    "    tag2idx[tag] = len(corpus)-1\n",
    "    tagged_corpus[tag] = sent[1].split()\n",
    "for sent in tqdm(test[['description_id', 'key_text_pre']].values):\n",
    "    corpus.append(sent[1].split())\n",
    "    tag = sent[0]+'_key_test'\n",
    "    tag2idx[tag] = len(corpus)-1\n",
    "    tagged_corpus[tag] = sent[1].split()\n",
    "\n",
    "# description text\n",
    "for sent in tqdm(train[['description_id', 'description_text_pre']].values):\n",
    "    corpus.append(sent[1].split())\n",
    "    tag = sent[0]+'_description_train'\n",
    "    tag2idx[tag] = len(corpus)-1\n",
    "    tagged_corpus[tag] = sent[1].split()\n",
    "for sent in tqdm(test[['description_id', 'description_text_pre']].values):\n",
    "    corpus.append(sent[1].split())\n",
    "    tag = sent[0]+'_description_test'\n",
    "    tag2idx[tag] = len(corpus)-1\n",
    "    tagged_corpus[tag] = sent[1].split()\n",
    "\n",
    "# candidate\n",
    "for sent in tqdm(candidate[['paper_id', 'title_pro']].values):\n",
    "    corpus.append(sent[1].split())\n",
    "    tag = sent[0]+'_title'\n",
    "    tag2idx[tag] = len(corpus)-1\n",
    "    tagged_corpus[tag] = sent[1].split()\n",
    "for sent in tqdm(candidate[['paper_id', 'abstract_pre']].values):\n",
    "    corpus.append(sent[1].split())\n",
    "    tag = sent[0]+'_abstract'\n",
    "    tag2idx[tag] = len(corpus)-1\n",
    "    tagged_corpus[tag] = sent[1].split()\n",
    "\n",
    "with open(model_path+'tag2idx.pkl', 'wb') as f:\n",
    "    pickle.dump(tag2idx, f)\n",
    "\n",
    "len(corpus), len(tagged_corpus), len(tag2idx)"
   ]
  },
  {
   "cell_type": "markdown",
   "metadata": {},
   "source": [
    "### word2vec (needed)"
   ]
  },
  {
   "cell_type": "code",
   "execution_count": 5,
   "metadata": {},
   "outputs": [
    {
     "name": "stdout",
     "output_type": "stream",
     "text": [
      "CPU times: user 1h 37min 29s, sys: 1min 48s, total: 1h 39min 17s\n",
      "Wall time: 21min 56s\n"
     ]
    }
   ],
   "source": [
    "%%time\n",
    "# 12m 48s\n",
    "model = Word2Vec(corpus,\n",
    "                 size=256,\n",
    "                 min_count=2,\n",
    "                 iter=15,\n",
    "                 workers=workers)\n",
    "model.save(model_path+'word2vec.model')"
   ]
  },
  {
   "cell_type": "markdown",
   "metadata": {},
   "source": [
    "### SIF - word2vec (needed)"
   ]
  },
  {
   "cell_type": "code",
   "execution_count": 6,
   "metadata": {},
   "outputs": [
    {
     "name": "stdout",
     "output_type": "stream",
     "text": [
      "CPU times: user 1min 45s, sys: 42.2 s, total: 2min 27s\n",
      "Wall time: 59.3 s\n"
     ]
    }
   ],
   "source": [
    "%%time\n",
    "# 52s\n",
    "sentences = IndexedList(corpus)\n",
    "sif = SIF(model)\n",
    "sif.train(sentences)\n",
    "sif.save(model_path+'sif.model')"
   ]
  },
  {
   "cell_type": "markdown",
   "metadata": {},
   "source": [
    "### uSIF - word2vec (useless)"
   ]
  },
  {
   "cell_type": "code",
   "execution_count": 7,
   "metadata": {},
   "outputs": [],
   "source": [
    "# %%time\n",
    "# # 43s\n",
    "# model = Word2Vec.load(model_path+'word2vec.model')\n",
    "# sentences = IndexedList(corpus)\n",
    "# usif = uSIF(model)\n",
    "# usif.train(sentences)\n",
    "# usif.save(model_path+'usif.model')"
   ]
  },
  {
   "cell_type": "markdown",
   "metadata": {},
   "source": [
    "### fasttext - FB (needed)"
   ]
  },
  {
   "cell_type": "code",
   "execution_count": 8,
   "metadata": {},
   "outputs": [
    {
     "data": {
      "application/vnd.jupyter.widget-view+json": {
       "model_id": "1981338904b946ce98a89a7a29f888dc",
       "version_major": 2,
       "version_minor": 0
      },
      "text/plain": [
       "HBox(children=(FloatProgress(value=0.0, max=1872680.0), HTML(value='')))"
      ]
     },
     "metadata": {},
     "output_type": "display_data"
    },
    {
     "name": "stdout",
     "output_type": "stream",
     "text": [
      "\n",
      "CPU times: user 1d 8h 34min 27s, sys: 3min 11s, total: 1d 8h 37min 39s\n",
      "Wall time: 1h 26min 18s\n"
     ]
    }
   ],
   "source": [
    "%%time\n",
    "# 86m 18s\n",
    "with open('corpus.txt', 'w') as f:\n",
    "    for sent in tqdm(corpus):\n",
    "        f.write(' '.join(sent)+'\\n')\n",
    "        \n",
    "model = fasttext.train_unsupervised('corpus.txt',\n",
    "                                    dim=256,\n",
    "                                    minCount=2,\n",
    "                                    thread=workers,\n",
    "                                    epoch=15,\n",
    "                                    wordNgrams=2)\n",
    "model.save_model(model_path+\"fasttext2.bin\")"
   ]
  },
  {
   "cell_type": "markdown",
   "metadata": {},
   "source": [
    "### fasttext - gensim (useless)"
   ]
  },
  {
   "cell_type": "code",
   "execution_count": 9,
   "metadata": {},
   "outputs": [],
   "source": [
    "# %%time\n",
    "# # 37m 58s\n",
    "# model = FT_gensim(corpus,\n",
    "#                   size=256,\n",
    "#                   min_count=2,\n",
    "#                   workers=workers,\n",
    "#                   iter=15,\n",
    "#                   word_ngrams=2)\n",
    "# model.save(model_path+\"fasttext_gensim.bin\")"
   ]
  },
  {
   "cell_type": "markdown",
   "metadata": {},
   "source": [
    "### SIF - fasttext bio (useless)"
   ]
  },
  {
   "cell_type": "code",
   "execution_count": 10,
   "metadata": {
    "scrolled": true
   },
   "outputs": [],
   "source": [
    "# %%time\n",
    "# print('loading model...')\n",
    "# model = FT_gensim.load(model_path+'fasttext_bio.bin')\n",
    "# print('training fasttext...')\n",
    "# model.train(corpus, epochs=5, total_examples=len(corpus), workers=workers)\n",
    "# print('training SIF...')\n",
    "# sentences = IndexedList(corpus)\n",
    "# sif = SIF(model)\n",
    "# sif.train(sentences)\n",
    "# sif.save(model_path+'sif_bio.model')"
   ]
  }
 ],
 "metadata": {
  "kernelspec": {
   "display_name": "Python 3",
   "language": "python",
   "name": "python3"
  },
  "language_info": {
   "codemirror_mode": {
    "name": "ipython",
    "version": 3
   },
   "file_extension": ".py",
   "mimetype": "text/x-python",
   "name": "python",
   "nbconvert_exporter": "python",
   "pygments_lexer": "ipython3",
   "version": "3.7.5"
  }
 },
 "nbformat": 4,
 "nbformat_minor": 2
}
